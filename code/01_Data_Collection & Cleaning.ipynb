{
 "cells": [
  {
   "cell_type": "markdown",
   "id": "fa4ac110-8a2f-48d7-96ea-1f97617c9d26",
   "metadata": {},
   "source": [
    "# **<span style=\"font-size:larger;\"> 01: <span style=\"color:blue\">Data Collection & Cleaning</span>** #"
   ]
  },
  {
   "cell_type": "code",
   "execution_count": 21,
   "id": "4910b465-4c73-4bc5-a9b2-3d4101abfbba",
   "metadata": {},
   "outputs": [],
   "source": [
    "# Import Libraries\n",
    "import requests\n",
    "import json\n",
    "import time\n",
    "import pandas as pd"
   ]
  },
  {
   "cell_type": "markdown",
   "id": "479073b7-ebd2-4c38-92a2-f748e0356ec6",
   "metadata": {},
   "source": [
    "# **1.1 Data Collection**"
   ]
  },
  {
   "cell_type": "code",
   "execution_count": 25,
   "id": "0322c120-0f49-406d-a233-64b41721433e",
   "metadata": {},
   "outputs": [],
   "source": [
    "def pushshift_query(full_df_path, subreddit):\n",
    "    epochs = ['1451624400', '1454302800', '1456808400','1459483200', '1462075200', '1464753600',\n",
    "              '1467345600', '1470024000', '1472702400', '1475294400', '1477972800', '1480568400',\n",
    "              '1483246800','1485925200', '1488344400', '1491019200', '1493611200', '1496289600',\n",
    "              '1498881600', '1501560000', '1504238400', '1506830400', '1509508800', '1512104400',\n",
    "              '1514782800', '1517461200', '1519880400', '1522555200', '1525147200', '1527825600',\n",
    "              '1530417600', '1533096000', '1535774400', '1538366400','1541044800','1543640400',\n",
    "              '1546300800', '1548979200', '1551398400','1554076800', '1556668800','1559347200', \n",
    "              '1561939200', '1564617600', '1567296000', '1569888000','1572566400', '1575158400',\n",
    "              '1577898000', '1580576400', '1583082000', '1585756800', '1588348800','1591027200', \n",
    "              '1593619200', '1596297600', '1598976000', '1601568000','1604250000', '1606842000', \n",
    "              '1609520400', '1612198800', '1614618000','1617292800', '1619884800', '1622563200']\n",
    "              # These are pulled from the begining of each month from January 2016 to June 2021\n",
    "    for epoch in epochs:\n",
    "        full_df = pd.read_csv(full_df_path)\n",
    "        url = f'https://api.pushshift.io/reddit/search/submission/?subreddit={subreddit}&before={epoch}&size=100'\n",
    "\n",
    "        res = requests.get(url)\n",
    "        if res.status_code == 200:\n",
    "            post_list = res.json()['data']\n",
    "            temp_df = pd.DataFrame(post_list)[['title', 'author', 'created_utc', 'subreddit']]\n",
    "            full_df = pd.concat([full_df, temp_df])\n",
    "            \n",
    "            print(full_df.shape)\n",
    "            print(full_df['title'].nunique())\n",
    "            print(\"Waiting until next pull...\")\n",
    "\n",
    "            time.sleep(5)\n",
    "        else:\n",
    "            continue\n",
    "        full_df.to_csv(full_df_path, index=False)"
   ]
  },
  {
   "cell_type": "markdown",
   "id": "93e98752-0f58-44ab-b886-83969205db1c",
   "metadata": {},
   "source": [
    "### Collecting Data From r/AnimalsBeingBros"
   ]
  },
  {
   "cell_type": "code",
   "execution_count": 23,
   "id": "de06969c-bee0-48f5-bf75-7be4918c3dee",
   "metadata": {},
   "outputs": [],
   "source": [
    "full_df = pd.DataFrame(columns=['title', 'author', 'created_utc', 'subreddit'])\n",
    "full_df.to_csv('./data/animalsbeingbros.csv', index=False)"
   ]
  },
  {
   "cell_type": "code",
   "execution_count": 24,
   "id": "77a448e6-99bd-47f8-a912-632d608ec76b",
   "metadata": {},
   "outputs": [],
   "source": [
    "pushshift_query(full_df_path = './data/animalsbeingbros.csv', subreddit = 'animalsbeingbros')"
   ]
  },
  {
   "cell_type": "markdown",
   "id": "33ebaf4f-7d22-422d-ae9f-4117d70eeebd",
   "metadata": {},
   "source": [
    "### Collecting Data From r/AnimalsBeingJerks"
   ]
  },
  {
   "cell_type": "code",
   "execution_count": 17,
   "id": "7a2e80f4-7f33-4a5c-b7c6-c581a21dbffa",
   "metadata": {},
   "outputs": [],
   "source": [
    "full_df2 = pd.DataFrame(columns=['title', 'author', 'created_utc', 'subreddit'])\n",
    "full_df2.to_csv('./data/animalsbeingjerks.csv', index=False)"
   ]
  },
  {
   "cell_type": "code",
   "execution_count": 18,
   "id": "e337fdd8-a3bd-4f0e-9e29-cd23495af115",
   "metadata": {},
   "outputs": [],
   "source": [
    "pushshift_query(full_df_path = './data/animalsbeingjerks.csv', subreddit = 'animalsbeingjerks')"
   ]
  },
  {
   "cell_type": "markdown",
   "id": "d178f457-45bd-485a-b41f-0b2cb8d85e19",
   "metadata": {},
   "source": [
    "# **1.2 Data Cleaning**"
   ]
  },
  {
   "cell_type": "code",
   "execution_count": 19,
   "id": "47608180-8f76-4169-8af6-ffd0af792fc4",
   "metadata": {},
   "outputs": [],
   "source": [
    "# Read in data\n",
    "df1 = pd.read_csv('./data/animalsbeingbros.csv')\n",
    "df2 = pd.read_csv('./data/animalsbeingjerks.csv')"
   ]
  },
  {
   "cell_type": "markdown",
   "id": "fdc6c210-97b1-4c68-b271-6ce2f29f0364",
   "metadata": {},
   "source": [
    "**Concatenating DataFrames**"
   ]
  },
  {
   "cell_type": "code",
   "execution_count": 26,
   "id": "6edda421-6c43-4852-ba6f-3d953567e1df",
   "metadata": {},
   "outputs": [],
   "source": [
    "df = pd.concat([df1, df2])"
   ]
  },
  {
   "cell_type": "markdown",
   "id": "1a042811-bbab-447d-b19c-ae64c68a2d27",
   "metadata": {},
   "source": [
    "**Dropping Duplicates**"
   ]
  },
  {
   "cell_type": "code",
   "execution_count": null,
   "id": "2111e0d5-f6ab-4a85-b87f-f3487e46c3fa",
   "metadata": {},
   "outputs": [],
   "source": [
    "df.drop_duplicates(subset='title', inplace=True)"
   ]
  },
  {
   "cell_type": "markdown",
   "id": "620c9efe-e047-4633-931d-5c0bf0059c22",
   "metadata": {},
   "source": [
    "**Fomatting Titles**"
   ]
  },
  {
   "cell_type": "code",
   "execution_count": null,
   "id": "1352e6d5-1839-4aff-b846-ec603c027de3",
   "metadata": {},
   "outputs": [],
   "source": [
    "df['title'] = df['title'].str.lower()"
   ]
  },
  {
   "cell_type": "markdown",
   "id": "0c5d7225-1d37-42d1-aceb-fed64c60e425",
   "metadata": {},
   "source": [
    "**Creating Target**"
   ]
  },
  {
   "cell_type": "code",
   "execution_count": null,
   "id": "fe425cab-db73-4af9-b99d-12c0ec14a8ad",
   "metadata": {},
   "outputs": [],
   "source": [
    "# Engineer a feature to turn subreddit into a 1/0 column, where 1 indicates r/AnimalsBeingJerks\n",
    "df['is_AnimalsBeingJerks'] = [1 if i == 'AnimalsBeingJerks' else 0 for i in df['subreddit']]"
   ]
  },
  {
   "cell_type": "markdown",
   "id": "6cc61368-352a-4fb8-ab76-f83310f306c0",
   "metadata": {},
   "source": [
    "**Saving Work**"
   ]
  },
  {
   "cell_type": "code",
   "execution_count": null,
   "id": "aa4e1aa9-e52e-4521-9ea7-7bd8f349d1af",
   "metadata": {},
   "outputs": [],
   "source": [
    "df.to_csv('./data/original_df.csv')"
   ]
  },
  {
   "cell_type": "markdown",
   "id": "71c09001-11fd-4313-bc7d-4db10f54d7c5",
   "metadata": {},
   "source": [
    "# ***Next Notebook***"
   ]
  },
  {
   "cell_type": "markdown",
   "id": "0e402842-5a46-49d1-9023-ad3845356dd7",
   "metadata": {},
   "source": [
    "## [02: EDA & Pre-Processing](https://github.com/ksylvia16/Subreddit-Classification/blob/cd3150a33a8d98eb171840af34465468e11431c8/code/02_EDA_%26_Pre-Processing.ipynb)"
   ]
  }
 ],
 "metadata": {
  "kernelspec": {
   "display_name": "Python 3",
   "language": "python",
   "name": "python3"
  },
  "language_info": {
   "codemirror_mode": {
    "name": "ipython",
    "version": 3
   },
   "file_extension": ".py",
   "mimetype": "text/x-python",
   "name": "python",
   "nbconvert_exporter": "python",
   "pygments_lexer": "ipython3",
   "version": "3.8.8"
  }
 },
 "nbformat": 4,
 "nbformat_minor": 5
}
